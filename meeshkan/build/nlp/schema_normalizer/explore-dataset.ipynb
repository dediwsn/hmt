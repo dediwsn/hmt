{
 "cells": [
  {
   "cell_type": "code",
   "execution_count": 1,
   "metadata": {},
   "outputs": [],
   "source": [
    "import os\n",
    "import sys\n",
    "import json"
   ]
  },
  {
   "cell_type": "code",
   "execution_count": 2,
   "metadata": {},
   "outputs": [],
   "source": [
    "from openapi_typed_2 import convert_to_openapi"
   ]
  },
  {
   "cell_type": "code",
   "execution_count": 3,
   "metadata": {},
   "outputs": [],
   "source": [
    "sample_file = 'openapi_specs/original.json'\n",
    "relpath = os.path.relpath(sample_file)"
   ]
  },
  {
   "cell_type": "code",
   "execution_count": 4,
   "metadata": {},
   "outputs": [],
   "source": [
    "with open(relpath, 'r') as f:\n",
    "    data = json.load(f)\n",
    "    #specs = convert_to_openapi(data)"
   ]
  },
  {
   "cell_type": "code",
   "execution_count": 5,
   "metadata": {},
   "outputs": [],
   "source": [
    "#paths = []"
   ]
  },
  {
   "cell_type": "code",
   "execution_count": 6,
   "metadata": {},
   "outputs": [],
   "source": [
    "paths = []\n",
    "for key in data['paths']:\n",
    "    paths.append(key)"
   ]
  },
  {
   "cell_type": "code",
   "execution_count": 7,
   "metadata": {},
   "outputs": [],
   "source": [
    "#path1 = paths[all_paths[2]]\n",
    "#path2 = paths[all_paths[1]]"
   ]
  },
  {
   "cell_type": "code",
   "execution_count": 8,
   "metadata": {},
   "outputs": [],
   "source": [
    "#path1.get.responses['200'].content['application/json'].schema.properties['accounts'].items.properties['accountId']._type                                         "
   ]
  },
  {
   "cell_type": "code",
   "execution_count": 9,
   "metadata": {},
   "outputs": [],
   "source": [
    "acc2 = data['paths'][paths[1]]['get']['responses']['200']['content']['application/json']['schema']"
   ]
  },
  {
   "cell_type": "code",
   "execution_count": 10,
   "metadata": {},
   "outputs": [],
   "source": [
    "acc1 = data['paths'][paths[2]]['get']['responses']['200']['content']['application/json']['schema']"
   ]
  },
  {
   "cell_type": "code",
   "execution_count": 11,
   "metadata": {},
   "outputs": [],
   "source": [
    "pay1 =  data['paths'][paths[0]]['post']['responses']['200']['content']['application/json']['schema']"
   ]
  },
  {
   "cell_type": "code",
   "execution_count": 12,
   "metadata": {},
   "outputs": [],
   "source": [
    "from schema_paths.schema_to_vector import generate_schema_vectors\n",
    "from schema_paths.schema_to_fields import schema_remove_types"
   ]
  },
  {
   "cell_type": "code",
   "execution_count": 13,
   "metadata": {},
   "outputs": [],
   "source": [
    "schemas = 'sample_jsonschemas/account_1.jsonl'\n",
    "relschemas = os.path.relpath(schemas)"
   ]
  },
  {
   "cell_type": "code",
   "execution_count": 14,
   "metadata": {},
   "outputs": [],
   "source": [
    "with open(relschemas, 'r') as f:\n",
    "    data2 = json.load(f)"
   ]
  },
  {
   "cell_type": "code",
   "execution_count": 15,
   "metadata": {},
   "outputs": [],
   "source": [
    "acc1['$schema'] = 'root'\n",
    "acc2['$schema'] = 'root'\n",
    "pay1['$schema'] = 'root'"
   ]
  },
  {
   "cell_type": "code",
   "execution_count": 16,
   "metadata": {},
   "outputs": [],
   "source": [
    "a2 = generate_schema_vectors(acc2)\n"
   ]
  },
  {
   "cell_type": "code",
   "execution_count": 17,
   "metadata": {},
   "outputs": [],
   "source": [
    "a1 = generate_schema_vectors(acc1)"
   ]
  },
  {
   "cell_type": "code",
   "execution_count": 18,
   "metadata": {},
   "outputs": [],
   "source": [
    "a1 = [item.split('#') for item in a1]"
   ]
  },
  {
   "cell_type": "code",
   "execution_count": 19,
   "metadata": {},
   "outputs": [],
   "source": [
    "d1 = dict()"
   ]
  },
  {
   "cell_type": "code",
   "execution_count": 20,
   "metadata": {},
   "outputs": [],
   "source": [
    "for each in a1:\n",
    "    length = str(len(each))\n",
    "    each = '#'.join(each)\n",
    "    if d1.get(length) is None:\n",
    "        d1[length] = [each]\n",
    "    else:\n",
    "        d1[length] += [each]"
   ]
  },
  {
   "cell_type": "code",
   "execution_count": 21,
   "metadata": {},
   "outputs": [],
   "source": [
    "level_keys = dict()\n",
    "total_keys = len(d1)\n",
    "for i in range(1, total_keys, 1):\n",
    "    for each in d1[str(i)]:\n",
    "        if each.endswith('@array') or each.endswith('@object'):\n",
    "            if level_keys.get(str(i+1)) is None:\n",
    "                level_keys[str(i+1)] = [each]\n",
    "            else:\n",
    "                level_keys[str(i+1)] += [each]"
   ]
  },
  {
   "cell_type": "code",
   "execution_count": 22,
   "metadata": {},
   "outputs": [
    {
     "data": {
      "text/plain": [
       "['accounts@array#_links@object#self@object',\n",
       " 'accounts@array#_links@object#transactions@object']"
      ]
     },
     "execution_count": 22,
     "metadata": {},
     "output_type": "execute_result"
    }
   ],
   "source": [
    "level_keys['4']"
   ]
  },
  {
   "cell_type": "code",
   "execution_count": 23,
   "metadata": {},
   "outputs": [],
   "source": [
    "total_keys = len(d1)\n",
    "for i in range(total_keys, 1, -1):\n",
    "    d1[str(i - 1)] += d1[str(i)]"
   ]
  },
  {
   "cell_type": "code",
   "execution_count": 24,
   "metadata": {},
   "outputs": [],
   "source": [
    "l2 = list()"
   ]
  },
  {
   "cell_type": "code",
   "execution_count": 25,
   "metadata": {},
   "outputs": [],
   "source": [
    "l2.append({'$schema' : d1['1']})"
   ]
  },
  {
   "cell_type": "code",
   "execution_count": 26,
   "metadata": {},
   "outputs": [],
   "source": [
    "temp = {}\n",
    "for each in level_keys['2']:\n",
    "    for value in d1['2']:\n",
    "        if value.startswith(each):\n",
    "            value = value.replace(each, '')[1:]\n",
    "            if temp.get(each) is None:\n",
    "                temp[each] = [value]\n",
    "            else:\n",
    "                temp[each] += [value]\n",
    "                \n",
    "                "
   ]
  },
  {
   "cell_type": "code",
   "execution_count": 27,
   "metadata": {},
   "outputs": [],
   "source": [
    "l2 = list()\n",
    "for i in range(1, total_keys+1, 1):\n",
    "    if i == 1:\n",
    "        l2.append({ '$schema' : d1[str(i)]})\n",
    "    else:\n",
    "        temp = dict()\n",
    "        for each in level_keys[str(i)]:\n",
    "            temp[each] = []\n",
    "            for value in d1[str(i)]:\n",
    "                if value.startswith(each):\n",
    "                    value = value.replace(each, '')[1:]\n",
    "                    temp[each] += [value]\n",
    "        l2.append(temp)"
   ]
  },
  {
   "cell_type": "code",
   "execution_count": 28,
   "metadata": {},
   "outputs": [
    {
     "data": {
      "text/plain": [
       "{'accounts@array': ['accountId@string',\n",
       "  'identifier@string',\n",
       "  'identifierScheme@string',\n",
       "  'nickname@string',\n",
       "  'name@string',\n",
       "  'balance@number',\n",
       "  'currency@string',\n",
       "  'servicerScheme@string',\n",
       "  'servicerIdentifier@string',\n",
       "  '_links@object',\n",
       "  '_links@object#self@object',\n",
       "  '_links@object#transactions@object',\n",
       "  '_links@object#self@object#href@string',\n",
       "  '_links@object#transactions@object#href@string'],\n",
       " '_links@object': ['self@object', 'self@object#href@string']}"
      ]
     },
     "execution_count": 28,
     "metadata": {},
     "output_type": "execute_result"
    }
   ],
   "source": [
    "l2[1]"
   ]
  },
  {
   "cell_type": "code",
   "execution_count": 29,
   "metadata": {},
   "outputs": [],
   "source": [
    "from schema_paths.parse_openapi_schema import parse_schema"
   ]
  },
  {
   "cell_type": "code",
   "execution_count": 30,
   "metadata": {},
   "outputs": [],
   "source": [
    "a1 = parse_schema(acc1)"
   ]
  },
  {
   "cell_type": "code",
   "execution_count": 31,
   "metadata": {},
   "outputs": [],
   "source": [
    "a2 = parse_schema(acc2)"
   ]
  },
  {
   "cell_type": "code",
   "execution_count": 35,
   "metadata": {},
   "outputs": [
    {
     "name": "stdout",
     "output_type": "stream",
     "text": [
      "Matched\n"
     ]
    }
   ],
   "source": [
    "if a2[0]['$schema'] == a1[1]['accounts@array']:\n",
    "    print('Matched')\n",
    "else:\n",
    "    print('Unmatched')"
   ]
  },
  {
   "cell_type": "code",
   "execution_count": 43,
   "metadata": {},
   "outputs": [],
   "source": [
    "match_list = []\n",
    "for each1 in a2:\n",
    "    for key1, value1 in each1.items():\n",
    "        for each2 in a1:\n",
    "            for key2, value2 in each2.items():\n",
    "                if value1 == value2:\n",
    "                    match_list.append((key1, key2))"
   ]
  },
  {
   "cell_type": "code",
   "execution_count": 44,
   "metadata": {},
   "outputs": [
    {
     "name": "stdout",
     "output_type": "stream",
     "text": [
      "('$schema', 'accounts@array')\n",
      "('_links@object', 'accounts@array#_links@object')\n",
      "('_links@object#self@object', '_links@object#self@object')\n",
      "('_links@object#self@object', 'accounts@array#_links@object#self@object')\n",
      "('_links@object#self@object', 'accounts@array#_links@object#transactions@object')\n",
      "('_links@object#transactions@object', '_links@object#self@object')\n",
      "('_links@object#transactions@object', 'accounts@array#_links@object#self@object')\n",
      "('_links@object#transactions@object', 'accounts@array#_links@object#transactions@object')\n"
     ]
    }
   ],
   "source": [
    "for each in match_list:\n",
    "    print(each)"
   ]
  }
 ],
 "metadata": {
  "kernelspec": {
   "display_name": "Python 3",
   "language": "python",
   "name": "python3"
  },
  "language_info": {
   "codemirror_mode": {
    "name": "ipython",
    "version": 3
   },
   "file_extension": ".py",
   "mimetype": "text/x-python",
   "name": "python",
   "nbconvert_exporter": "python",
   "pygments_lexer": "ipython3",
   "version": "3.6.8"
  }
 },
 "nbformat": 4,
 "nbformat_minor": 4
}
