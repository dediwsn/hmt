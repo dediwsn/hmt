{
 "cells": [
  {
   "cell_type": "code",
   "execution_count": 49,
   "metadata": {},
   "outputs": [],
   "source": [
    "import os\n",
    "import sys\n",
    "import json"
   ]
  },
  {
   "cell_type": "code",
   "execution_count": 50,
   "metadata": {},
   "outputs": [],
   "source": [
    "from openapi_typed_2 import convert_to_openapi"
   ]
  },
  {
   "cell_type": "code",
   "execution_count": 51,
   "metadata": {},
   "outputs": [],
   "source": [
    "sample_file = 'openapi_specs/original.json'\n",
    "relpath = os.path.relpath(sample_file)"
   ]
  },
  {
   "cell_type": "code",
   "execution_count": 52,
   "metadata": {},
   "outputs": [],
   "source": [
    "with open(relpath, 'r') as f:\n",
    "    data = json.load(f)\n",
    "    #specs = convert_to_openapi(data)"
   ]
  },
  {
   "cell_type": "code",
   "execution_count": 53,
   "metadata": {},
   "outputs": [],
   "source": [
    "#paths = []"
   ]
  },
  {
   "cell_type": "code",
   "execution_count": 54,
   "metadata": {},
   "outputs": [],
   "source": [
    "paths = []\n",
    "for key in data['paths']:\n",
    "    paths.append(key)"
   ]
  },
  {
   "cell_type": "code",
   "execution_count": 55,
   "metadata": {},
   "outputs": [],
   "source": [
    "#path1 = paths[all_paths[2]]\n",
    "#path2 = paths[all_paths[1]]"
   ]
  },
  {
   "cell_type": "code",
   "execution_count": 56,
   "metadata": {},
   "outputs": [],
   "source": [
    "#path1.get.responses['200'].content['application/json'].schema.properties['accounts'].items.properties['accountId']._type                                         "
   ]
  },
  {
   "cell_type": "code",
   "execution_count": 57,
   "metadata": {},
   "outputs": [],
   "source": [
    "acc2 = data['paths'][paths[1]]['get']['responses']['200']['content']['application/json']['schema']"
   ]
  },
  {
   "cell_type": "code",
   "execution_count": 58,
   "metadata": {},
   "outputs": [],
   "source": [
    "acc1 = data['paths'][paths[2]]['get']['responses']['200']['content']['application/json']['schema']"
   ]
  },
  {
   "cell_type": "code",
   "execution_count": 59,
   "metadata": {},
   "outputs": [],
   "source": [
    "pay1 =  data['paths'][paths[0]]['post']['responses']['200']['content']['application/json']['schema']"
   ]
  },
  {
   "cell_type": "code",
   "execution_count": 60,
   "metadata": {},
   "outputs": [],
   "source": [
    "from schema_paths.schema_to_vector import generate_schema_vectors\n",
    "from schema_paths.schema_to_fields import schema_remove_types"
   ]
  },
  {
   "cell_type": "code",
   "execution_count": 61,
   "metadata": {},
   "outputs": [],
   "source": [
    "schemas = 'sample_jsonschemas/account_1.jsonl'\n",
    "relschemas = os.path.relpath(schemas)"
   ]
  },
  {
   "cell_type": "code",
   "execution_count": 62,
   "metadata": {},
   "outputs": [],
   "source": [
    "with open(relschemas, 'r') as f:\n",
    "    data2 = json.load(f)"
   ]
  },
  {
   "cell_type": "code",
   "execution_count": 63,
   "metadata": {},
   "outputs": [],
   "source": [
    "acc1['$schema'] = 'root'\n",
    "acc2['$schema'] = 'root'\n",
    "pay1['$schema'] = 'root'"
   ]
  },
  {
   "cell_type": "code",
   "execution_count": 64,
   "metadata": {},
   "outputs": [],
   "source": [
    "a2 = generate_schema_vectors(acc2)\n"
   ]
  },
  {
   "cell_type": "code",
   "execution_count": 65,
   "metadata": {},
   "outputs": [],
   "source": [
    "a1 = generate_schema_vectors(acc1)"
   ]
  },
  {
   "cell_type": "code",
   "execution_count": 66,
   "metadata": {},
   "outputs": [],
   "source": [
    "a1 = [item.split('#') for item in a1]"
   ]
  },
  {
   "cell_type": "code",
   "execution_count": 67,
   "metadata": {},
   "outputs": [],
   "source": [
    "d1 = dict()"
   ]
  },
  {
   "cell_type": "code",
   "execution_count": 68,
   "metadata": {},
   "outputs": [],
   "source": [
    "for each in a1:\n",
    "    length = str(len(each))\n",
    "    each = '#'.join(each)\n",
    "    if d1.get(length) is None:\n",
    "        d1[length] = [each]\n",
    "    else:\n",
    "        d1[length] += [each]"
   ]
  },
  {
   "cell_type": "code",
   "execution_count": 69,
   "metadata": {},
   "outputs": [],
   "source": [
    "level_keys = dict()\n",
    "total_keys = len(d1)\n",
    "for i in range(1, total_keys, 1):\n",
    "    for each in d1[str(i)]:\n",
    "        if each.endswith('@array') or each.endswith('@object'):\n",
    "            if level_keys.get(str(i+1)) is None:\n",
    "                level_keys[str(i+1)] = [each]\n",
    "            else:\n",
    "                level_keys[str(i+1)] += [each]"
   ]
  },
  {
   "cell_type": "code",
   "execution_count": 70,
   "metadata": {},
   "outputs": [
    {
     "data": {
      "text/plain": [
       "['accounts@array#_links@object#self@object',\n",
       " 'accounts@array#_links@object#transactions@object']"
      ]
     },
     "execution_count": 70,
     "metadata": {},
     "output_type": "execute_result"
    }
   ],
   "source": [
    "level_keys['4']"
   ]
  },
  {
   "cell_type": "code",
   "execution_count": 71,
   "metadata": {},
   "outputs": [],
   "source": [
    "total_keys = len(d1)\n",
    "for i in range(total_keys, 1, -1):\n",
    "    d1[str(i - 1)] += d1[str(i)]"
   ]
  },
  {
   "cell_type": "code",
   "execution_count": 72,
   "metadata": {},
   "outputs": [],
   "source": [
    "l2 = list()"
   ]
  },
  {
   "cell_type": "code",
   "execution_count": 73,
   "metadata": {},
   "outputs": [],
   "source": [
    "l2.append({'$schema' : d1['1']})"
   ]
  },
  {
   "cell_type": "code",
   "execution_count": 74,
   "metadata": {},
   "outputs": [],
   "source": [
    "temp = {}\n",
    "for each in level_keys['2']:\n",
    "    for value in d1['2']:\n",
    "        if value.startswith(each):\n",
    "            value = value.replace(each, '')[1:]\n",
    "            if temp.get(each) is None:\n",
    "                temp[each] = [value]\n",
    "            else:\n",
    "                temp[each] += [value]\n",
    "                \n",
    "                "
   ]
  },
  {
   "cell_type": "code",
   "execution_count": 75,
   "metadata": {},
   "outputs": [],
   "source": [
    "l2 = list()\n",
    "for i in range(1, total_keys+1, 1):\n",
    "    if i == 1:\n",
    "        l2.append({ '$schema' : d1[str(i)]})\n",
    "    else:\n",
    "        temp = dict()\n",
    "        for each in level_keys[str(i)]:\n",
    "            temp[each] = []\n",
    "            for value in d1[str(i)]:\n",
    "                if value.startswith(each):\n",
    "                    value = value.replace(each, '')[1:]\n",
    "                    temp[each] += [value]\n",
    "        l2.append(temp)"
   ]
  },
  {
   "cell_type": "code",
   "execution_count": 76,
   "metadata": {},
   "outputs": [],
   "source": [
    "path_tuple = ('/accounts/v3/accounts/eg9Mno2tvmeEE039chWrHw7sk1155oy5Mha8kQp0mYs.sxajtselenSScKPZrBMYjg.SoFWGrHocw1YoNb3zw-vfw',\n",
    "              '/accounts/v3/accounts')\n"
   ]
  },
  {
   "cell_type": "code",
   "execution_count": 77,
   "metadata": {},
   "outputs": [
    {
     "ename": "ImportError",
     "evalue": "cannot import name 'check_and_create_ref' from 'schema_paths.schema_reference' (C:\\unmock\\persistency_research\\schema_normalizer\\schema_paths\\schema_reference.py)",
     "output_type": "error",
     "traceback": [
      "\u001b[1;31m---------------------------------------------------------------------------\u001b[0m",
      "\u001b[1;31mImportError\u001b[0m                               Traceback (most recent call last)",
      "\u001b[1;32m<ipython-input-77-555654593370>\u001b[0m in \u001b[0;36m<module>\u001b[1;34m\u001b[0m\n\u001b[1;32m----> 1\u001b[1;33m \u001b[1;32mfrom\u001b[0m \u001b[0mschema_paths\u001b[0m\u001b[1;33m.\u001b[0m\u001b[0mschema_reference\u001b[0m \u001b[1;32mimport\u001b[0m \u001b[0mcheck_and_create_ref\u001b[0m\u001b[1;33m\u001b[0m\u001b[1;33m\u001b[0m\u001b[0m\n\u001b[0m",
      "\u001b[1;31mImportError\u001b[0m: cannot import name 'check_and_create_ref' from 'schema_paths.schema_reference' (C:\\unmock\\persistency_research\\schema_normalizer\\schema_paths\\schema_reference.py)"
     ]
    }
   ],
   "source": [
    "from schema_paths.schema_reference import check_and_create_ref"
   ]
  },
  {
   "cell_type": "code",
   "execution_count": 30,
   "metadata": {},
   "outputs": [],
   "source": [
    "a1 = parse_schema(acc1)"
   ]
  },
  {
   "cell_type": "code",
   "execution_count": 31,
   "metadata": {},
   "outputs": [],
   "source": [
    "a2 = parse_schema(acc2)"
   ]
  },
  {
   "cell_type": "code",
   "execution_count": 32,
   "metadata": {},
   "outputs": [],
   "source": [
    "from schema_paths.schema_compare import compare_nested_schema"
   ]
  },
  {
   "cell_type": "code",
   "execution_count": 33,
   "metadata": {},
   "outputs": [],
   "source": [
    "tup = compare_nested_schema(a1, a2)"
   ]
  },
  {
   "cell_type": "code",
   "execution_count": 34,
   "metadata": {},
   "outputs": [],
   "source": [
    "from schema_paths.schema_reference import create_ref_path"
   ]
  },
  {
   "cell_type": "code",
   "execution_count": 35,
   "metadata": {},
   "outputs": [
    {
     "data": {
      "text/plain": [
       "('accounts', '#/component/schema/accounts')"
      ]
     },
     "execution_count": 35,
     "metadata": {},
     "output_type": "execute_result"
    }
   ],
   "source": [
    "create_ref_path(tup[0])"
   ]
  },
  {
   "cell_type": "code",
   "execution_count": 83,
   "metadata": {},
   "outputs": [],
   "source": [
    "t1 = {\n",
    "    'a' : [{'b' : 'c'}],\n",
    "    'x' : [{'y' : 'z'}]\n",
    "}"
   ]
  },
  {
   "cell_type": "code",
   "execution_count": 90,
   "metadata": {},
   "outputs": [
    {
     "name": "stdout",
     "output_type": "stream",
     "text": [
      "c\n",
      "z\n"
     ]
    }
   ],
   "source": [
    "for keys, values in t1.items():\n",
    "    for key in values[0].keys():\n",
    "        print(values[0][key])"
   ]
  }
 ],
 "metadata": {
  "kernelspec": {
   "display_name": "Python 3",
   "language": "python",
   "name": "python3"
  },
  "language_info": {
   "codemirror_mode": {
    "name": "ipython",
    "version": 3
   },
   "file_extension": ".py",
   "mimetype": "text/x-python",
   "name": "python",
   "nbconvert_exporter": "python",
   "pygments_lexer": "ipython3",
   "version": "3.7.6"
  }
 },
 "nbformat": 4,
 "nbformat_minor": 4
}
